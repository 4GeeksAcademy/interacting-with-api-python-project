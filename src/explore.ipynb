{
 "cells": [
  {
   "cell_type": "markdown",
   "metadata": {},
   "source": [
    "# Explore here"
   ]
  },
  {
   "cell_type": "code",
   "execution_count": 4,
   "metadata": {},
   "outputs": [
    {
     "data": {
      "text/plain": [
       "<spotipy.client.Spotify at 0x7fa76c798510>"
      ]
     },
     "execution_count": 4,
     "metadata": {},
     "output_type": "execute_result"
    }
   ],
   "source": [
    "import spotipy as sp\n",
    "from spotipy.oauth2 import SpotifyClientCredentials\n",
    "import matplotlib.pyplot as plt\n",
    "import os\n",
    "import pandas as pd\n",
    "#import seaborn as sns\n",
    "from dotenv import load_dotenv\n",
    "\n",
    "\n",
    "# load the .env file variables\n",
    "from dotenv import load_dotenv\n",
    "load_dotenv()\n",
    "\n",
    "client_id = os.environ.get(\"CLIENT_ID\")\n",
    "client_secret = os.environ.get(\"CLIENT_SECRET\")\n",
    "load_dotenv()\n",
    "\n",
    "sp.Spotify()\n",
    "\n"
   ]
  },
  {
   "cell_type": "code",
   "execution_count": 5,
   "metadata": {},
   "outputs": [
    {
     "ename": "NameError",
     "evalue": "name 'spotipy' is not defined",
     "output_type": "error",
     "traceback": [
      "\u001b[0;31m---------------------------------------------------------------------------\u001b[0m",
      "\u001b[0;31mAttributeError\u001b[0m                            Traceback (most recent call last)",
      "\u001b[1;32m/workspaces/interacting-with-api-python-project/src/explore.ipynb Celda 3\u001b[0m line \u001b[0;36m9\n\u001b[1;32m      <a href='vscode-notebook-cell://codespaces%2Blaughing-waffle-97j946v559wq3pxrw/workspaces/interacting-with-api-python-project/src/explore.ipynb#W2sdnNjb2RlLXJlbW90ZQ%3D%3D?line=6'>7</a>\u001b[0m \u001b[39mtry\u001b[39;00m:\n\u001b[1;32m      <a href='vscode-notebook-cell://codespaces%2Blaughing-waffle-97j946v559wq3pxrw/workspaces/interacting-with-api-python-project/src/explore.ipynb#W2sdnNjb2RlLXJlbW90ZQ%3D%3D?line=7'>8</a>\u001b[0m     \u001b[39m# Obtener el top 10 de canciones del artista\u001b[39;00m\n\u001b[0;32m----> <a href='vscode-notebook-cell://codespaces%2Blaughing-waffle-97j946v559wq3pxrw/workspaces/interacting-with-api-python-project/src/explore.ipynb#W2sdnNjb2RlLXJlbW90ZQ%3D%3D?line=8'>9</a>\u001b[0m     top_tracks \u001b[39m=\u001b[39m sp\u001b[39m.\u001b[39;49martist_top_tracks(artist_id)[\u001b[39m'\u001b[39m\u001b[39mtracks\u001b[39m\u001b[39m'\u001b[39m][:\u001b[39m10\u001b[39m]\n\u001b[1;32m     <a href='vscode-notebook-cell://codespaces%2Blaughing-waffle-97j946v559wq3pxrw/workspaces/interacting-with-api-python-project/src/explore.ipynb#W2sdnNjb2RlLXJlbW90ZQ%3D%3D?line=10'>11</a>\u001b[0m     \u001b[39m# Imprimir resultados\u001b[39;00m\n",
      "\u001b[0;31mAttributeError\u001b[0m: module 'spotipy' has no attribute 'artist_top_tracks'",
      "\nDuring handling of the above exception, another exception occurred:\n",
      "\u001b[0;31mNameError\u001b[0m                                 Traceback (most recent call last)",
      "\u001b[1;32m/workspaces/interacting-with-api-python-project/src/explore.ipynb Celda 3\u001b[0m line \u001b[0;36m1\n\u001b[1;32m     <a href='vscode-notebook-cell://codespaces%2Blaughing-waffle-97j946v559wq3pxrw/workspaces/interacting-with-api-python-project/src/explore.ipynb#W2sdnNjb2RlLXJlbW90ZQ%3D%3D?line=14'>15</a>\u001b[0m         duration \u001b[39m=\u001b[39m track[\u001b[39m'\u001b[39m\u001b[39mduration_ms\u001b[39m\u001b[39m'\u001b[39m] \u001b[39m/\u001b[39m \u001b[39m60000\u001b[39m  \u001b[39m# Convertir milisegundos a minutos\u001b[39;00m\n\u001b[1;32m     <a href='vscode-notebook-cell://codespaces%2Blaughing-waffle-97j946v559wq3pxrw/workspaces/interacting-with-api-python-project/src/explore.ipynb#W2sdnNjb2RlLXJlbW90ZQ%3D%3D?line=15'>16</a>\u001b[0m         \u001b[39mprint\u001b[39m(\u001b[39mf\u001b[39m\u001b[39m\"\u001b[39m\u001b[39m{\u001b[39;00midx\u001b[39m}\u001b[39;00m\u001b[39m. \u001b[39m\u001b[39m{\u001b[39;00mname\u001b[39m}\u001b[39;00m\u001b[39m - Popularidad: \u001b[39m\u001b[39m{\u001b[39;00mpopularity\u001b[39m}\u001b[39;00m\u001b[39m, Duración: \u001b[39m\u001b[39m{\u001b[39;00mduration\u001b[39m:\u001b[39;00m\u001b[39m.2f\u001b[39m\u001b[39m}\u001b[39;00m\u001b[39m minutos\u001b[39m\u001b[39m\"\u001b[39m)\n\u001b[0;32m---> <a href='vscode-notebook-cell://codespaces%2Blaughing-waffle-97j946v559wq3pxrw/workspaces/interacting-with-api-python-project/src/explore.ipynb#W2sdnNjb2RlLXJlbW90ZQ%3D%3D?line=17'>18</a>\u001b[0m \u001b[39mexcept\u001b[39;00m spotipy\u001b[39m.\u001b[39mexceptions\u001b[39m.\u001b[39mSpotifyException \u001b[39mas\u001b[39;00m e:\n\u001b[1;32m     <a href='vscode-notebook-cell://codespaces%2Blaughing-waffle-97j946v559wq3pxrw/workspaces/interacting-with-api-python-project/src/explore.ipynb#W2sdnNjb2RlLXJlbW90ZQ%3D%3D?line=18'>19</a>\u001b[0m     \u001b[39mprint\u001b[39m(\u001b[39m\"\u001b[39m\u001b[39mError de autenticación o de llamada a la API:\u001b[39m\u001b[39m\"\u001b[39m, e)\n",
      "\u001b[0;31mNameError\u001b[0m: name 'spotipy' is not defined"
     ]
    }
   ],
   "source": [
    "auth_manager = SpotifyClientCredentials(client_id=client_id, client_secret=client_secret)\n",
    "spy = sp.Spotify(auth_manager=auth_manager)\n",
    "\n",
    "# Introduce the chosen artist artist ID:\n",
    "artist_id = \"1yk1KXKWdvXVUC1TLAnO97\"\n",
    "\n",
    "try:\n",
    "    # Obtener el top 10 de canciones del artista\n",
    "    top_tracks = sp.artist_top_tracks(artist_id)['tracks'][:10]\n",
    "\n",
    "    # Imprimir resultados\n",
    "    for idx, track in enumerate(top_tracks, 1):\n",
    "        name = track['name']\n",
    "        popularity = track['popularity']\n",
    "        duration = track['duration_ms'] / 60000  # Convertir milisegundos a minutos\n",
    "        print(f\"{idx}. {name} - Popularidad: {popularity}, Duración: {duration:.2f} minutos\")\n",
    "\n",
    "except spotipy.exceptions.SpotifyException as e:\n",
    "    print(\"Error de autenticación o de llamada a la API:\", e)\n",
    "\n",
    "\n"
   ]
  }
 ],
 "metadata": {
  "kernelspec": {
   "display_name": "Python 3.8.13 64-bit ('3.8.13')",
   "language": "python",
   "name": "python3"
  },
  "language_info": {
   "codemirror_mode": {
    "name": "ipython",
    "version": 3
   },
   "file_extension": ".py",
   "mimetype": "text/x-python",
   "name": "python",
   "nbconvert_exporter": "python",
   "pygments_lexer": "ipython3",
   "version": "3.8.13"
  },
  "orig_nbformat": 4,
  "vscode": {
   "interpreter": {
    "hash": "110cc1dee26208153f2972f08a2ad52b6a56238dc66d48e87fb757ef2996db56"
   }
  }
 },
 "nbformat": 4,
 "nbformat_minor": 2
}
